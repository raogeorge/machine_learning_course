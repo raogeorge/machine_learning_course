{
 "cells": [
  {
   "cell_type": "code",
   "execution_count": 1,
   "metadata": {},
   "outputs": [],
   "source": [
    "import numpy as np\n",
    "import matplotlib.pyplot as plt\n",
    "\n",
    "# Load and preprocess data\n",
    "def load_data(filename):\n",
    "    data = np.loadtxt(filename, delimiter=',')\n",
    "    X = data[:, :-1]\n",
    "    y = data[:, -1]\n",
    "    X = np.hstack((np.ones((X.shape[0], 1)), X))  # Add bias term\n",
    "    return X, y\n"
   ]
  },
  {
   "cell_type": "code",
   "execution_count": 4,
   "metadata": {},
   "outputs": [
    {
     "ename": "NameError",
     "evalue": "name 'train' is not defined",
     "output_type": "error",
     "traceback": [
      "\u001b[1;31m---------------------------------------------------------------------------\u001b[0m",
      "\u001b[1;31mNameError\u001b[0m                                 Traceback (most recent call last)",
      "Cell \u001b[1;32mIn[4], line 39\u001b[0m\n\u001b[0;32m     36\u001b[0m     \u001b[38;5;28;01mreturn\u001b[39;00m np\u001b[38;5;241m.\u001b[39msum((h \u001b[38;5;241m-\u001b[39m y)\u001b[38;5;241m*\u001b[39m\u001b[38;5;241m*\u001b[39m\u001b[38;5;241m2\u001b[39m) \u001b[38;5;241m/\u001b[39m (\u001b[38;5;241m2\u001b[39m\u001b[38;5;241m*\u001b[39mm)\n\u001b[0;32m     38\u001b[0m \u001b[38;5;66;03m# Load data\u001b[39;00m\n\u001b[1;32m---> 39\u001b[0m X_train, y_train \u001b[38;5;241m=\u001b[39m load_data(\u001b[43mtrain\u001b[49m\u001b[38;5;241m.\u001b[39mcsv)\n\u001b[0;32m     40\u001b[0m X_test, y_test \u001b[38;5;241m=\u001b[39m load_data(test\u001b[38;5;241m.\u001b[39mcsv)\n\u001b[0;32m     42\u001b[0m \u001b[38;5;66;03m# Tune learning rate\u001b[39;00m\n",
      "\u001b[1;31mNameError\u001b[0m: name 'train' is not defined"
     ]
    }
   ],
   "source": [
    "import numpy as np\n",
    "import matplotlib.pyplot as plt\n",
    "\n",
    "def load_data(data_string):\n",
    "    data = np.array([list(map(float, line.split(','))) for line in data_string.strip().split('\\n')])\n",
    "    X = data[:, :-1]\n",
    "    y = data[:, -1]\n",
    "    X = np.hstack((np.ones((X.shape[0], 1)), X))  # Add bias term\n",
    "    return X, y\n",
    "\n",
    "def batch_gradient_descent(X, y, learning_rate, max_iterations=1000, tolerance=1e-6):\n",
    "    m, n = X.shape\n",
    "    w = np.zeros(n)\n",
    "    costs = []\n",
    "    \n",
    "    for i in range(max_iterations):\n",
    "        h = X.dot(w)\n",
    "        gradient = X.T.dot(h - y) / m\n",
    "        w_new = w - learning_rate * gradient\n",
    "        \n",
    "        cost = np.sum((h - y)**2) / (2*m)\n",
    "        costs.append(cost)\n",
    "        \n",
    "        if np.linalg.norm(w_new - w) < tolerance:\n",
    "            print(f\"Converged after {i+1} iterations\")\n",
    "            return w_new, costs\n",
    "        \n",
    "        w = w_new\n",
    "    \n",
    "    print(\"Did not converge\")\n",
    "    return w, costs\n",
    "\n",
    "def calculate_cost(X, y, w):\n",
    "    m = X.shape[0]\n",
    "    h = X.dot(w)\n",
    "    return np.sum((h - y)**2) / (2*m)\n",
    "\n",
    "# Load data\n",
    "X_train, y_train = load_data(train.csv)\n",
    "X_test, y_test = load_data(test.csv)\n",
    "\n",
    "# Tune learning rate\n",
    "learning_rates = [1, 0.5, 0.25, 0.125, 0.0625, 0.03125]\n",
    "best_lr = None\n",
    "best_w = None\n",
    "best_costs = None\n",
    "\n",
    "for lr in learning_rates:\n",
    "    print(f\"Testing learning rate: {lr}\")\n",
    "    w, costs = batch_gradient_descent(X_train, y_train, lr)\n",
    "    \n",
    "    if best_lr is None or (len(costs) < len(best_costs)):\n",
    "        best_lr = lr\n",
    "        best_w = w\n",
    "        best_costs = costs\n",
    "\n",
    "print(f\"Best learning rate: {best_lr}\")\n",
    "print(f\"Learned weight vector: {best_w}\")\n",
    "\n",
    "# Plot cost function\n",
    "plt.figure(figsize=(10, 6))\n",
    "plt.plot(range(len(best_costs)), best_costs)\n",
    "plt.title(f'Cost Function vs. Iterations (Learning Rate: {best_lr})')\n",
    "plt.xlabel('Iterations')\n",
    "plt.ylabel('Cost')\n",
    "plt.grid(True)\n",
    "plt.show()\n",
    "\n",
    "# Calculate cost for test data\n",
    "test_cost = calculate_cost(X_test, y_test, best_w)\n",
    "print(f\"Cost function value on test data: {test_cost}\")"
   ]
  }
 ],
 "metadata": {
  "kernelspec": {
   "display_name": "Python 3",
   "language": "python",
   "name": "python3"
  },
  "language_info": {
   "codemirror_mode": {
    "name": "ipython",
    "version": 3
   },
   "file_extension": ".py",
   "mimetype": "text/x-python",
   "name": "python",
   "nbconvert_exporter": "python",
   "pygments_lexer": "ipython3",
   "version": "3.11.1"
  }
 },
 "nbformat": 4,
 "nbformat_minor": 2
}
