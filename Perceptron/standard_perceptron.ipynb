{
 "cells": [
  {
   "cell_type": "code",
   "execution_count": 1,
   "metadata": {},
   "outputs": [],
   "source": [
    "import numpy as np\n",
    "\n",
    "def load_data(filename):\n",
    "    # Load data directly as float\n",
    "    data = np.genfromtxt(filename, delimiter=',')\n",
    "    \n",
    "    # Split into features and labels\n",
    "    X = data[:, :-1]\n",
    "    y = data[:, -1]\n",
    "    \n",
    "    # Add bias term\n",
    "    X_with_bias = np.column_stack([np.ones(len(X)), X])\n",
    "    \n",
    "    # Convert 0/1 labels to -1/1\n",
    "    y = 2 * y - 1\n",
    "    \n",
    "    return X_with_bias, y\n",
    "\n",
    "def perceptron(X, y, T=10):\n",
    "    \"\"\"\n",
    "    Standard Perceptron implementation\n",
    "    X: features with bias term (n_samples, n_features + 1)\n",
    "    y: labels (-1 or 1)\n",
    "    T: maximum number of epochs\n",
    "    \"\"\"\n",
    "    n_samples, n_features = X.shape\n",
    "    w = np.zeros(n_features)  # Initialize weights to zero\n",
    "    \n",
    "    for epoch in range(T):\n",
    "        mistakes = 0\n",
    "        for i in range(n_samples):\n",
    "            prediction = np.sign(np.dot(w, X[i]))\n",
    "            if prediction * y[i] <= 0:  # Mistake was made\n",
    "                w += y[i] * X[i]  # Update weights\n",
    "                mistakes += 1\n",
    "        \n",
    "        print(f\"Epoch {epoch + 1}, mistakes: {mistakes}\")\n",
    "        if mistakes == 0:  # If no mistakes, we've converged\n",
    "            print(f\"Converged at epoch {epoch + 1}\")\n",
    "            break\n",
    "    \n",
    "    return w\n",
    "\n",
    "def evaluate(X, y, w):\n",
    "    \"\"\"Calculate prediction error\"\"\"\n",
    "    predictions = np.sign(np.dot(X, w))\n",
    "    errors = np.sum(predictions != y)\n",
    "    return errors / len(y)\n"
   ]
  },
  {
   "cell_type": "code",
   "execution_count": 5,
   "metadata": {},
   "outputs": [
    {
     "name": "stdout",
     "output_type": "stream",
     "text": [
      "Training Perceptron...\n",
      "Epoch 1, mistakes: 53\n",
      "Epoch 2, mistakes: 30\n",
      "Epoch 3, mistakes: 22\n",
      "Epoch 4, mistakes: 25\n",
      "Epoch 5, mistakes: 20\n",
      "Epoch 6, mistakes: 21\n",
      "Epoch 7, mistakes: 22\n",
      "Epoch 8, mistakes: 25\n",
      "Epoch 9, mistakes: 17\n",
      "Epoch 10, mistakes: 24\n",
      "\n",
      "Final weight vector: [ 53.       -61.086591 -42.70582  -40.30786   -3.146269]\n",
      "Test error rate: 0.0200\n",
      "\n",
      "Weights by feature:\n",
      "bias: 53.0000\n",
      "variance: -61.0866\n",
      "skewness: -42.7058\n",
      "curtosis: -40.3079\n",
      "entropy: -3.1463\n"
     ]
    }
   ],
   "source": [
    "# Load training data\n",
    "train_data, train_labels = load_data('train.csv')\n",
    "\n",
    "# Train perceptron\n",
    "print(\"Training Perceptron...\")\n",
    "w = perceptron(train_data, train_labels, T=10)\n",
    "\n",
    "# Load and evaluate on test data\n",
    "test_data, test_labels = load_data('test.csv')\n",
    "test_error = evaluate(test_data, test_labels, w)\n",
    "\n",
    "print(\"\\nFinal weight vector:\", w)\n",
    "print(f\"Test error rate: {test_error:.4f}\")\n",
    "\n",
    "# Print weights with feature names for interpretability\n",
    "feature_names = ['bias', 'variance', 'skewness', 'curtosis', 'entropy']\n",
    "print(\"\\nWeights by feature:\")\n",
    "for name, weight in zip(feature_names, w):\n",
    "    print(f\"{name}: {weight:.4f}\")\n"
   ]
  }
 ],
 "metadata": {
  "kernelspec": {
   "display_name": "base",
   "language": "python",
   "name": "python3"
  },
  "language_info": {
   "codemirror_mode": {
    "name": "ipython",
    "version": 3
   },
   "file_extension": ".py",
   "mimetype": "text/x-python",
   "name": "python",
   "nbconvert_exporter": "python",
   "pygments_lexer": "ipython3",
   "version": "3.9.13"
  }
 },
 "nbformat": 4,
 "nbformat_minor": 2
}
