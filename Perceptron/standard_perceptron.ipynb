{
 "cells": [
  {
   "cell_type": "code",
   "execution_count": 1,
   "metadata": {},
   "outputs": [],
   "source": [
    "import numpy as np\n",
    "\n",
    "def load_data(filename):\n",
    "    data = np.genfromtxt(filename, delimiter=',', dtype=str)\n",
    "    \n",
    "    X = data[:, :-1]\n",
    "    y = data[:, -1]\n",
    "    \n",
    "    X_encoded = np.zeros(X.shape, dtype=float)\n",
    "    for i in range(X.shape[1]):\n",
    "        try:\n",
    "            X_encoded[:, i] = X[:, i].astype(float)\n",
    "        except ValueError:\n",
    "            unique_values = np.unique(X[:, i])\n",
    "            X_encoded[:, i] = np.array([np.where(unique_values == val)[0][0] for val in X[:, i]])\n",
    "    \n",
    "    y = (y == 'yes').astype(int) * 2 - 1\n",
    "    \n",
    "    return X_encoded, y\n",
    "\n",
    "def perceptron(X, y, T=10):\n",
    "    \"\"\"\n",
    "    Standard Perceptron implementation\n",
    "    X: features with bias term (n_samples, n_features + 1)\n",
    "    y: labels (-1 or 1)\n",
    "    T: maximum number of epochs\n",
    "    \"\"\"\n",
    "    n_samples, n_features = X.shape\n",
    "    w = np.zeros(n_features)  # Initialize weights to zero\n",
    "    \n",
    "    for epoch in range(T):\n",
    "        mistakes = 0\n",
    "        for i in range(n_samples):\n",
    "            prediction = np.sign(np.dot(w, X[i]))\n",
    "            if prediction * y[i] <= 0:  # Mistake was made\n",
    "                w += y[i] * X[i]  # Update weights\n",
    "                mistakes += 1\n",
    "        \n",
    "        print(f\"Epoch {epoch + 1}, mistakes: {mistakes}\")\n",
    "        if mistakes == 0:  # If no mistakes, we've converged\n",
    "            print(f\"Converged at epoch {epoch + 1}\")\n",
    "            break\n",
    "    \n",
    "    return w\n",
    "\n",
    "def evaluate(X, y, w):\n",
    "    \"\"\"Calculate prediction error\"\"\"\n",
    "    predictions = np.sign(np.dot(X, w))\n",
    "    errors = np.sum(predictions != y)\n",
    "    return errors / len(y)\n"
   ]
  },
  {
   "cell_type": "code",
   "execution_count": 2,
   "metadata": {},
   "outputs": [
    {
     "name": "stdout",
     "output_type": "stream",
     "text": [
      "Training Perceptron...\n",
      "Epoch 1, mistakes: 160\n",
      "Epoch 2, mistakes: 148\n",
      "Epoch 3, mistakes: 159\n",
      "Epoch 4, mistakes: 143\n",
      "Epoch 5, mistakes: 150\n",
      "Epoch 6, mistakes: 148\n",
      "Epoch 7, mistakes: 155\n",
      "Epoch 8, mistakes: 141\n",
      "Epoch 9, mistakes: 146\n",
      "Epoch 10, mistakes: 155\n",
      "\n",
      "Final weight vector: [-2.3029648 -4.746074  -6.529434  14.276519 ]\n",
      "Test error rate: 0.1660\n",
      "\n",
      "Weights by feature:\n",
      "bias: -2.3030\n",
      "variance: -4.7461\n",
      "skewness: -6.5294\n",
      "curtosis: 14.2765\n"
     ]
    }
   ],
   "source": [
    "# Load training data\n",
    "train_data, train_labels = load_data('train.csv')\n",
    "\n",
    "# Train perceptron\n",
    "print(\"Training Perceptron...\")\n",
    "w = perceptron(train_data, train_labels, T=10)\n",
    "\n",
    "# Load and evaluate on test data\n",
    "test_data, test_labels = load_data('test.csv')\n",
    "test_error = evaluate(test_data, test_labels, w)\n",
    "\n",
    "print(\"\\nFinal weight vector:\", w)\n",
    "print(f\"Test error rate: {test_error:.4f}\")\n",
    "\n",
    "# Print weights with feature names for interpretability\n",
    "feature_names = ['bias', 'variance', 'skewness', 'curtosis', 'entropy']\n",
    "print(\"\\nWeights by feature:\")\n",
    "for name, weight in zip(feature_names, w):\n",
    "    print(f\"{name}: {weight:.4f}\")\n"
   ]
  }
 ],
 "metadata": {
  "kernelspec": {
   "display_name": "base",
   "language": "python",
   "name": "python3"
  },
  "language_info": {
   "codemirror_mode": {
    "name": "ipython",
    "version": 3
   },
   "file_extension": ".py",
   "mimetype": "text/x-python",
   "name": "python",
   "nbconvert_exporter": "python",
   "pygments_lexer": "ipython3",
   "version": "3.9.13"
  }
 },
 "nbformat": 4,
 "nbformat_minor": 2
}
