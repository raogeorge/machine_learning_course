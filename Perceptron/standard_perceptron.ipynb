{
 "cells": [
  {
   "cell_type": "code",
   "execution_count": 6,
   "metadata": {},
   "outputs": [],
   "source": [
    "import numpy as np\n",
    "\n",
    "def load_data(csv_content):\n",
    "    \"\"\"Load and preprocess data from CSV content string\"\"\"\n",
    "    # Parse CSV content into lines\n",
    "    lines = csv_content.strip().split('\\n')\n",
    "    \n",
    "    # Convert each line to numpy arrays\n",
    "    data = []\n",
    "    labels = []\n",
    "    for line in lines:\n",
    "        # Skip empty lines\n",
    "        if not line.strip():\n",
    "            continue\n",
    "        values = list(map(float, line.split(',')))\n",
    "        # Add bias term\n",
    "        features = np.array([1.0] + values[:-1])  # Add 1.0 as first element for bias\n",
    "        label = 1 if values[-1] == 1 else -1  # Convert 0 to -1 for perceptron\n",
    "        data.append(features)\n",
    "        labels.append(label)\n",
    "    \n",
    "    return np.array(data), np.array(labels)\n",
    "\n",
    "def perceptron(X, y, T=10):\n",
    "    \"\"\"\n",
    "    Standard Perceptron implementation\n",
    "    X: features with bias term (n_samples, n_features + 1)\n",
    "    y: labels (-1 or 1)\n",
    "    T: maximum number of epochs\n",
    "    \"\"\"\n",
    "    n_samples, n_features = X.shape\n",
    "    w = np.zeros(n_features)  # Initialize weights to zero\n",
    "    \n",
    "    for epoch in range(T):\n",
    "        mistakes = 0\n",
    "        for i in range(n_samples):\n",
    "            prediction = np.sign(np.dot(w, X[i]))\n",
    "            if prediction * y[i] <= 0:  # Mistake was made\n",
    "                w += y[i] * X[i]  # Update weights\n",
    "                mistakes += 1\n",
    "        \n",
    "        print(f\"Epoch {epoch + 1}, mistakes: {mistakes}\")\n",
    "        if mistakes == 0:  # If no mistakes, we've converged\n",
    "            print(f\"Converged at epoch {epoch + 1}\")\n",
    "            break\n",
    "    \n",
    "    return w\n",
    "\n",
    "def evaluate(X, y, w):\n",
    "    \"\"\"Calculate prediction error\"\"\"\n",
    "    predictions = np.sign(np.dot(X, w))\n",
    "    errors = np.sum(predictions != y)\n",
    "    return errors / len(y)\n"
   ]
  },
  {
   "cell_type": "code",
   "execution_count": null,
   "metadata": {},
   "outputs": [
    {
     "ename": "NameError",
     "evalue": "name 'train' is not defined",
     "output_type": "error",
     "traceback": [
      "\u001b[1;31m---------------------------------------------------------------------------\u001b[0m",
      "\u001b[1;31mNameError\u001b[0m                                 Traceback (most recent call last)",
      "Cell \u001b[1;32mIn[10], line 2\u001b[0m\n\u001b[0;32m      1\u001b[0m \u001b[38;5;66;03m# Load training data\u001b[39;00m\n\u001b[1;32m----> 2\u001b[0m train_data, train_labels \u001b[38;5;241m=\u001b[39m load_data(\u001b[43mtrain\u001b[49m\u001b[38;5;241m.\u001b[39mcsv)\n\u001b[0;32m      4\u001b[0m \u001b[38;5;66;03m# Train perceptron\u001b[39;00m\n\u001b[0;32m      5\u001b[0m \u001b[38;5;28mprint\u001b[39m(\u001b[38;5;124m\"\u001b[39m\u001b[38;5;124mTraining Perceptron...\u001b[39m\u001b[38;5;124m\"\u001b[39m)\n",
      "\u001b[1;31mNameError\u001b[0m: name 'train' is not defined"
     ]
    }
   ],
   "source": [
    "# Load training data\n",
    "train_data, train_labels = load_data('train.csv')\n",
    "\n",
    "# Train perceptron\n",
    "print(\"Training Perceptron...\")\n",
    "w = perceptron(train_data, train_labels, T=10)\n",
    "\n",
    "# Load and evaluate on test data\n",
    "test_data, test_labels = load_data('test.csv')\n",
    "test_error = evaluate(test_data, test_labels, w)\n",
    "\n",
    "print(\"\\nFinal weight vector:\", w)\n",
    "print(f\"Test error rate: {test_error:.4f}\")\n",
    "\n",
    "# Print weights with feature names for interpretability\n",
    "feature_names = ['bias', 'variance', 'skewness', 'curtosis', 'entropy']\n",
    "print(\"\\nWeights by feature:\")\n",
    "for name, weight in zip(feature_names, w):\n",
    "    print(f\"{name}: {weight:.4f}\")\n"
   ]
  }
 ],
 "metadata": {
  "kernelspec": {
   "display_name": "Python 3",
   "language": "python",
   "name": "python3"
  },
  "language_info": {
   "codemirror_mode": {
    "name": "ipython",
    "version": 3
   },
   "file_extension": ".py",
   "mimetype": "text/x-python",
   "name": "python",
   "nbconvert_exporter": "python",
   "pygments_lexer": "ipython3",
   "version": "3.11.1"
  }
 },
 "nbformat": 4,
 "nbformat_minor": 2
}
